{
 "cells": [
  {
   "cell_type": "code",
   "execution_count": 1,
   "id": "347947eb",
   "metadata": {},
   "outputs": [],
   "source": [
    "from preprocessing import *\n",
    "from models import *\n",
    "from train_eval import *"
   ]
  },
  {
   "cell_type": "code",
   "execution_count": 2,
   "id": "ff3a10cb",
   "metadata": {},
   "outputs": [
    {
     "name": "stdout",
     "output_type": "stream",
     "text": [
      "loading from file without features\n",
      "++++++++++++++++= start herererer\n",
      "done here\n",
      "<class 'util_functions.MyDataset'>\n"
     ]
    },
    {
     "name": "stderr",
     "output_type": "stream",
     "text": [
      "Processing...\n"
     ]
    },
    {
     "name": "stdout",
     "output_type": "stream",
     "text": [
      "Enclosing subgraph extraction begins...\n",
      "35584150\n",
      "35584150\n"
     ]
    },
    {
     "name": "stderr",
     "output_type": "stream",
     "text": [
      "  0%|                               | 3659/35584150 [00:02<5:30:46, 1792.82it/s]\n"
     ]
    },
    {
     "ename": "IndexError",
     "evalue": "index 3706 is out of bounds for axis 0 with size 3706",
     "output_type": "error",
     "traceback": [
      "\u001b[0;31m---------------------------------------------------------------------------\u001b[0m",
      "\u001b[0;31mIndexError\u001b[0m                                Traceback (most recent call last)",
      "Input \u001b[0;32mIn [2]\u001b[0m, in \u001b[0;36m<cell line: 128>\u001b[0;34m()\u001b[0m\n\u001b[1;32m     96\u001b[0m train_graphs \u001b[38;5;241m=\u001b[39m \u001b[38;5;28meval\u001b[39m(dataset_class)(\n\u001b[1;32m     97\u001b[0m     \u001b[38;5;124m'\u001b[39m\u001b[38;5;124mdata/\u001b[39m\u001b[38;5;132;01m{}\u001b[39;00m\u001b[38;5;132;01m{}\u001b[39;00m\u001b[38;5;124m/\u001b[39m\u001b[38;5;132;01m{}\u001b[39;00m\u001b[38;5;124m/train\u001b[39m\u001b[38;5;124m'\u001b[39m\u001b[38;5;241m.\u001b[39mformat(\u001b[38;5;241m*\u001b[39mdata_combo),\n\u001b[1;32m     98\u001b[0m     adj_train, \n\u001b[0;32m   (...)\u001b[0m\n\u001b[1;32m    108\u001b[0m     parallel\u001b[38;5;241m=\u001b[39m\u001b[38;5;28;01mFalse\u001b[39;00m\n\u001b[1;32m    109\u001b[0m )\n\u001b[1;32m    112\u001b[0m test_graphs \u001b[38;5;241m=\u001b[39m \u001b[38;5;28meval\u001b[39m(dataset_class)(\n\u001b[1;32m    113\u001b[0m     \u001b[38;5;124m'\u001b[39m\u001b[38;5;124mdata/\u001b[39m\u001b[38;5;132;01m{}\u001b[39;00m\u001b[38;5;132;01m{}\u001b[39;00m\u001b[38;5;124m/\u001b[39m\u001b[38;5;132;01m{}\u001b[39;00m\u001b[38;5;124m/test\u001b[39m\u001b[38;5;124m'\u001b[39m\u001b[38;5;241m.\u001b[39mformat(\u001b[38;5;241m*\u001b[39mdata_combo),\n\u001b[1;32m    114\u001b[0m     adj_train, \n\u001b[0;32m   (...)\u001b[0m\n\u001b[1;32m    124\u001b[0m     parallel\u001b[38;5;241m=\u001b[39m\u001b[38;5;28;01mFalse\u001b[39;00m\n\u001b[1;32m    125\u001b[0m )\n\u001b[0;32m--> 128\u001b[0m test_graphs_topk \u001b[38;5;241m=\u001b[39m \u001b[38;5;28;43meval\u001b[39;49m\u001b[43m(\u001b[49m\u001b[43mdataset_class\u001b[49m\u001b[43m)\u001b[49m\u001b[43m(\u001b[49m\n\u001b[1;32m    129\u001b[0m \u001b[43m    \u001b[49m\u001b[38;5;124;43m'\u001b[39;49m\u001b[38;5;124;43mdata/\u001b[39;49m\u001b[38;5;132;43;01m{}\u001b[39;49;00m\u001b[38;5;132;43;01m{}\u001b[39;49;00m\u001b[38;5;124;43m/\u001b[39;49m\u001b[38;5;132;43;01m{}\u001b[39;49;00m\u001b[38;5;124;43m/testtopk\u001b[39;49m\u001b[38;5;124;43m'\u001b[39;49m\u001b[38;5;241;43m.\u001b[39;49m\u001b[43mformat\u001b[49m\u001b[43m(\u001b[49m\u001b[38;5;241;43m*\u001b[39;49m\u001b[43mdata_combo\u001b[49m\u001b[43m)\u001b[49m\u001b[43m,\u001b[49m\n\u001b[1;32m    130\u001b[0m \u001b[43m    \u001b[49m\u001b[43madj_train\u001b[49m\u001b[43m,\u001b[49m\u001b[43m \u001b[49m\n\u001b[1;32m    131\u001b[0m \u001b[43m    \u001b[49m\u001b[43mtesttopk_indices\u001b[49m\u001b[43m,\u001b[49m\u001b[43m \u001b[49m\n\u001b[1;32m    132\u001b[0m \u001b[43m    \u001b[49m\u001b[38;5;66;43;03m# test_indices,\u001b[39;49;00m\n\u001b[1;32m    133\u001b[0m \u001b[43m    \u001b[49m\u001b[38;5;66;43;03m# test_labels, \u001b[39;49;00m\n\u001b[1;32m    134\u001b[0m \u001b[43m    \u001b[49m\u001b[43mnp\u001b[49m\u001b[38;5;241;43m.\u001b[39;49m\u001b[43mrandom\u001b[49m\u001b[38;5;241;43m.\u001b[39;49m\u001b[43mrandint\u001b[49m\u001b[43m(\u001b[49m\u001b[38;5;241;43m5\u001b[39;49m\u001b[43m,\u001b[49m\u001b[43m \u001b[49m\u001b[43msize\u001b[49m\u001b[38;5;241;43m=\u001b[39;49m\u001b[38;5;28;43mlen\u001b[39;49m\u001b[43m(\u001b[49m\u001b[43mtesttopk_indices\u001b[49m\u001b[43m[\u001b[49m\u001b[38;5;241;43m0\u001b[39;49m\u001b[43m]\u001b[49m\u001b[43m)\u001b[49m\u001b[43m)\u001b[49m\u001b[43m,\u001b[49m\u001b[43m \u001b[49m\n\u001b[1;32m    135\u001b[0m \u001b[43m    \u001b[49m\u001b[38;5;241;43m1\u001b[39;49m\u001b[43m,\u001b[49m\n\u001b[1;32m    136\u001b[0m \u001b[43m    \u001b[49m\u001b[38;5;241;43m1.0\u001b[39;49m\u001b[43m,\u001b[49m\n\u001b[1;32m    137\u001b[0m \u001b[43m    \u001b[49m\u001b[43mmax_nodes_per_hop\u001b[49m\u001b[43m,\u001b[49m\u001b[43m \u001b[49m\n\u001b[1;32m    138\u001b[0m \u001b[43m    \u001b[49m\u001b[43mu_features\u001b[49m\u001b[43m,\u001b[49m\u001b[43m \u001b[49m\n\u001b[1;32m    139\u001b[0m \u001b[43m    \u001b[49m\u001b[43mv_features\u001b[49m\u001b[43m,\u001b[49m\u001b[43m \u001b[49m\n\u001b[1;32m    140\u001b[0m \u001b[43m    \u001b[49m\u001b[43mclass_values\u001b[49m\u001b[43m,\u001b[49m\u001b[43m \u001b[49m\n\u001b[1;32m    141\u001b[0m \u001b[43m    \u001b[49m\u001b[43mmax_num\u001b[49m\u001b[38;5;241;43m=\u001b[39;49m\u001b[38;5;28;43;01mNone\u001b[39;49;00m\u001b[43m,\u001b[49m\n\u001b[1;32m    142\u001b[0m \u001b[43m    \u001b[49m\u001b[43mparallel\u001b[49m\u001b[38;5;241;43m=\u001b[39;49m\u001b[38;5;28;43;01mFalse\u001b[39;49;00m\n\u001b[1;32m    143\u001b[0m \u001b[43m)\u001b[49m\n\u001b[1;32m    144\u001b[0m \u001b[38;5;28mprint\u001b[39m(np\u001b[38;5;241m.\u001b[39mrandom\u001b[38;5;241m.\u001b[39mrandint(\u001b[38;5;241m5\u001b[39m, size\u001b[38;5;241m=\u001b[39m\u001b[38;5;28mlen\u001b[39m(testtopk_indices))\u001b[38;5;241m.\u001b[39mshape)\n\u001b[1;32m    145\u001b[0m \u001b[38;5;28mprint\u001b[39m(\u001b[38;5;28mlen\u001b[39m(testtopk_indices[\u001b[38;5;241m0\u001b[39m]))\n",
      "File \u001b[0;32m~/classes/cse/mohanIGMC/IGMC/util_functions.py:92\u001b[0m, in \u001b[0;36mMyDataset.__init__\u001b[0;34m(self, root, A, links, labels, h, sample_ratio, max_nodes_per_hop, u_features, v_features, class_values, max_num, parallel)\u001b[0m\n\u001b[1;32m     90\u001b[0m     \u001b[38;5;28mself\u001b[39m\u001b[38;5;241m.\u001b[39mlinks \u001b[38;5;241m=\u001b[39m (links[\u001b[38;5;241m0\u001b[39m][perm], links[\u001b[38;5;241m1\u001b[39m][perm])\n\u001b[1;32m     91\u001b[0m     \u001b[38;5;28mself\u001b[39m\u001b[38;5;241m.\u001b[39mlabels \u001b[38;5;241m=\u001b[39m labels[perm]\n\u001b[0;32m---> 92\u001b[0m \u001b[38;5;28;43msuper\u001b[39;49m\u001b[43m(\u001b[49m\u001b[43mMyDataset\u001b[49m\u001b[43m,\u001b[49m\u001b[43m \u001b[49m\u001b[38;5;28;43mself\u001b[39;49m\u001b[43m)\u001b[49m\u001b[38;5;241;43m.\u001b[39;49m\u001b[38;5;21;43m__init__\u001b[39;49m\u001b[43m(\u001b[49m\u001b[43mroot\u001b[49m\u001b[43m)\u001b[49m\n\u001b[1;32m     93\u001b[0m \u001b[38;5;28mself\u001b[39m\u001b[38;5;241m.\u001b[39mdata, \u001b[38;5;28mself\u001b[39m\u001b[38;5;241m.\u001b[39mslices \u001b[38;5;241m=\u001b[39m torch\u001b[38;5;241m.\u001b[39mload(\u001b[38;5;28mself\u001b[39m\u001b[38;5;241m.\u001b[39mprocessed_paths[\u001b[38;5;241m0\u001b[39m])\n",
      "File \u001b[0;32m/opt/homebrew/Caskroom/miniforge/base/envs/torchgeo/lib/python3.10/site-packages/torch_geometric/data/in_memory_dataset.py:56\u001b[0m, in \u001b[0;36mInMemoryDataset.__init__\u001b[0;34m(self, root, transform, pre_transform, pre_filter)\u001b[0m\n\u001b[1;32m     52\u001b[0m \u001b[38;5;28;01mdef\u001b[39;00m \u001b[38;5;21m__init__\u001b[39m(\u001b[38;5;28mself\u001b[39m, root: Optional[\u001b[38;5;28mstr\u001b[39m] \u001b[38;5;241m=\u001b[39m \u001b[38;5;28;01mNone\u001b[39;00m,\n\u001b[1;32m     53\u001b[0m              transform: Optional[Callable] \u001b[38;5;241m=\u001b[39m \u001b[38;5;28;01mNone\u001b[39;00m,\n\u001b[1;32m     54\u001b[0m              pre_transform: Optional[Callable] \u001b[38;5;241m=\u001b[39m \u001b[38;5;28;01mNone\u001b[39;00m,\n\u001b[1;32m     55\u001b[0m              pre_filter: Optional[Callable] \u001b[38;5;241m=\u001b[39m \u001b[38;5;28;01mNone\u001b[39;00m):\n\u001b[0;32m---> 56\u001b[0m     \u001b[38;5;28;43msuper\u001b[39;49m\u001b[43m(\u001b[49m\u001b[43m)\u001b[49m\u001b[38;5;241;43m.\u001b[39;49m\u001b[38;5;21;43m__init__\u001b[39;49m\u001b[43m(\u001b[49m\u001b[43mroot\u001b[49m\u001b[43m,\u001b[49m\u001b[43m \u001b[49m\u001b[43mtransform\u001b[49m\u001b[43m,\u001b[49m\u001b[43m \u001b[49m\u001b[43mpre_transform\u001b[49m\u001b[43m,\u001b[49m\u001b[43m \u001b[49m\u001b[43mpre_filter\u001b[49m\u001b[43m)\u001b[49m\n\u001b[1;32m     57\u001b[0m     \u001b[38;5;28mself\u001b[39m\u001b[38;5;241m.\u001b[39mdata \u001b[38;5;241m=\u001b[39m \u001b[38;5;28;01mNone\u001b[39;00m\n\u001b[1;32m     58\u001b[0m     \u001b[38;5;28mself\u001b[39m\u001b[38;5;241m.\u001b[39mslices \u001b[38;5;241m=\u001b[39m \u001b[38;5;28;01mNone\u001b[39;00m\n",
      "File \u001b[0;32m/opt/homebrew/Caskroom/miniforge/base/envs/torchgeo/lib/python3.10/site-packages/torch_geometric/data/dataset.py:87\u001b[0m, in \u001b[0;36mDataset.__init__\u001b[0;34m(self, root, transform, pre_transform, pre_filter)\u001b[0m\n\u001b[1;32m     84\u001b[0m     \u001b[38;5;28mself\u001b[39m\u001b[38;5;241m.\u001b[39m_download()\n\u001b[1;32m     86\u001b[0m \u001b[38;5;28;01mif\u001b[39;00m \u001b[38;5;124m'\u001b[39m\u001b[38;5;124mprocess\u001b[39m\u001b[38;5;124m'\u001b[39m \u001b[38;5;129;01min\u001b[39;00m \u001b[38;5;28mself\u001b[39m\u001b[38;5;241m.\u001b[39m\u001b[38;5;18m__class__\u001b[39m\u001b[38;5;241m.\u001b[39m\u001b[38;5;18m__dict__\u001b[39m:\n\u001b[0;32m---> 87\u001b[0m     \u001b[38;5;28;43mself\u001b[39;49m\u001b[38;5;241;43m.\u001b[39;49m\u001b[43m_process\u001b[49m\u001b[43m(\u001b[49m\u001b[43m)\u001b[49m\n",
      "File \u001b[0;32m/opt/homebrew/Caskroom/miniforge/base/envs/torchgeo/lib/python3.10/site-packages/torch_geometric/data/dataset.py:170\u001b[0m, in \u001b[0;36mDataset._process\u001b[0;34m(self)\u001b[0m\n\u001b[1;32m    167\u001b[0m \u001b[38;5;28mprint\u001b[39m(\u001b[38;5;124m'\u001b[39m\u001b[38;5;124mProcessing...\u001b[39m\u001b[38;5;124m'\u001b[39m, file\u001b[38;5;241m=\u001b[39msys\u001b[38;5;241m.\u001b[39mstderr)\n\u001b[1;32m    169\u001b[0m makedirs(\u001b[38;5;28mself\u001b[39m\u001b[38;5;241m.\u001b[39mprocessed_dir)\n\u001b[0;32m--> 170\u001b[0m \u001b[38;5;28;43mself\u001b[39;49m\u001b[38;5;241;43m.\u001b[39;49m\u001b[43mprocess\u001b[49m\u001b[43m(\u001b[49m\u001b[43m)\u001b[49m\n\u001b[1;32m    172\u001b[0m path \u001b[38;5;241m=\u001b[39m osp\u001b[38;5;241m.\u001b[39mjoin(\u001b[38;5;28mself\u001b[39m\u001b[38;5;241m.\u001b[39mprocessed_dir, \u001b[38;5;124m'\u001b[39m\u001b[38;5;124mpre_transform.pt\u001b[39m\u001b[38;5;124m'\u001b[39m)\n\u001b[1;32m    173\u001b[0m torch\u001b[38;5;241m.\u001b[39msave(_repr(\u001b[38;5;28mself\u001b[39m\u001b[38;5;241m.\u001b[39mpre_transform), path)\n",
      "File \u001b[0;32m~/classes/cse/mohanIGMC/IGMC/util_functions.py:104\u001b[0m, in \u001b[0;36mMyDataset.process\u001b[0;34m(self)\u001b[0m\n\u001b[1;32m    102\u001b[0m \u001b[38;5;28;01mdef\u001b[39;00m \u001b[38;5;21mprocess\u001b[39m(\u001b[38;5;28mself\u001b[39m):\n\u001b[1;32m    103\u001b[0m     \u001b[38;5;66;03m# Extract enclosing subgraphs and save to disk\u001b[39;00m\n\u001b[0;32m--> 104\u001b[0m     data_list \u001b[38;5;241m=\u001b[39m \u001b[43mlinks2subgraphs\u001b[49m\u001b[43m(\u001b[49m\u001b[38;5;28;43mself\u001b[39;49m\u001b[38;5;241;43m.\u001b[39;49m\u001b[43mArow\u001b[49m\u001b[43m,\u001b[49m\u001b[43m \u001b[49m\u001b[38;5;28;43mself\u001b[39;49m\u001b[38;5;241;43m.\u001b[39;49m\u001b[43mAcol\u001b[49m\u001b[43m,\u001b[49m\u001b[43m \u001b[49m\u001b[38;5;28;43mself\u001b[39;49m\u001b[38;5;241;43m.\u001b[39;49m\u001b[43mlinks\u001b[49m\u001b[43m,\u001b[49m\u001b[43m \u001b[49m\u001b[38;5;28;43mself\u001b[39;49m\u001b[38;5;241;43m.\u001b[39;49m\u001b[43mlabels\u001b[49m\u001b[43m,\u001b[49m\u001b[43m \u001b[49m\u001b[38;5;28;43mself\u001b[39;49m\u001b[38;5;241;43m.\u001b[39;49m\u001b[43mh\u001b[49m\u001b[43m,\u001b[49m\u001b[43m \u001b[49m\n\u001b[1;32m    105\u001b[0m \u001b[43m                                \u001b[49m\u001b[38;5;28;43mself\u001b[39;49m\u001b[38;5;241;43m.\u001b[39;49m\u001b[43msample_ratio\u001b[49m\u001b[43m,\u001b[49m\u001b[43m \u001b[49m\u001b[38;5;28;43mself\u001b[39;49m\u001b[38;5;241;43m.\u001b[39;49m\u001b[43mmax_nodes_per_hop\u001b[49m\u001b[43m,\u001b[49m\u001b[43m \u001b[49m\n\u001b[1;32m    106\u001b[0m \u001b[43m                                \u001b[49m\u001b[38;5;28;43mself\u001b[39;49m\u001b[38;5;241;43m.\u001b[39;49m\u001b[43mu_features\u001b[49m\u001b[43m,\u001b[49m\u001b[43m \u001b[49m\u001b[38;5;28;43mself\u001b[39;49m\u001b[38;5;241;43m.\u001b[39;49m\u001b[43mv_features\u001b[49m\u001b[43m,\u001b[49m\u001b[43m \u001b[49m\n\u001b[1;32m    107\u001b[0m \u001b[43m                                \u001b[49m\u001b[38;5;28;43mself\u001b[39;49m\u001b[38;5;241;43m.\u001b[39;49m\u001b[43mclass_values\u001b[49m\u001b[43m,\u001b[49m\u001b[43m \u001b[49m\u001b[38;5;28;43mself\u001b[39;49m\u001b[38;5;241;43m.\u001b[39;49m\u001b[43mparallel\u001b[49m\u001b[43m)\u001b[49m\n\u001b[1;32m    109\u001b[0m     data, slices \u001b[38;5;241m=\u001b[39m \u001b[38;5;28mself\u001b[39m\u001b[38;5;241m.\u001b[39mcollate(data_list)\n\u001b[1;32m    110\u001b[0m     torch\u001b[38;5;241m.\u001b[39msave((data, slices), \u001b[38;5;28mself\u001b[39m\u001b[38;5;241m.\u001b[39mprocessed_paths[\u001b[38;5;241m0\u001b[39m])\n",
      "File \u001b[0;32m~/classes/cse/mohanIGMC/IGMC/util_functions.py:168\u001b[0m, in \u001b[0;36mlinks2subgraphs\u001b[0;34m(Arow, Acol, links, labels, h, sample_ratio, max_nodes_per_hop, u_features, v_features, class_values, parallel)\u001b[0m\n\u001b[1;32m    166\u001b[0m \u001b[38;5;28;01mwith\u001b[39;00m tqdm(total\u001b[38;5;241m=\u001b[39m\u001b[38;5;28mlen\u001b[39m(links[\u001b[38;5;241m0\u001b[39m])) \u001b[38;5;28;01mas\u001b[39;00m pbar:\n\u001b[1;32m    167\u001b[0m     \u001b[38;5;28;01mfor\u001b[39;00m i, j, g_label \u001b[38;5;129;01min\u001b[39;00m \u001b[38;5;28mzip\u001b[39m(links[\u001b[38;5;241m0\u001b[39m], links[\u001b[38;5;241m1\u001b[39m], labels):\n\u001b[0;32m--> 168\u001b[0m         tmp \u001b[38;5;241m=\u001b[39m \u001b[43msubgraph_extraction_labeling\u001b[49m\u001b[43m(\u001b[49m\n\u001b[1;32m    169\u001b[0m \u001b[43m            \u001b[49m\u001b[43m(\u001b[49m\u001b[43mi\u001b[49m\u001b[43m,\u001b[49m\u001b[43m \u001b[49m\u001b[43mj\u001b[49m\u001b[43m)\u001b[49m\u001b[43m,\u001b[49m\u001b[43m \u001b[49m\u001b[43mArow\u001b[49m\u001b[43m,\u001b[49m\u001b[43m \u001b[49m\u001b[43mAcol\u001b[49m\u001b[43m,\u001b[49m\u001b[43m \u001b[49m\u001b[43mh\u001b[49m\u001b[43m,\u001b[49m\u001b[43m \u001b[49m\u001b[43msample_ratio\u001b[49m\u001b[43m,\u001b[49m\u001b[43m \u001b[49m\u001b[43mmax_nodes_per_hop\u001b[49m\u001b[43m,\u001b[49m\u001b[43m \u001b[49m\u001b[43mu_features\u001b[49m\u001b[43m,\u001b[49m\u001b[43m \u001b[49m\n\u001b[1;32m    170\u001b[0m \u001b[43m            \u001b[49m\u001b[43mv_features\u001b[49m\u001b[43m,\u001b[49m\u001b[43m \u001b[49m\u001b[43mclass_values\u001b[49m\u001b[43m,\u001b[49m\u001b[43m \u001b[49m\u001b[43mg_label\u001b[49m\n\u001b[1;32m    171\u001b[0m \u001b[43m        \u001b[49m\u001b[43m)\u001b[49m\n\u001b[1;32m    172\u001b[0m         data \u001b[38;5;241m=\u001b[39m construct_pyg_graph(\u001b[38;5;241m*\u001b[39mtmp)\n\u001b[1;32m    173\u001b[0m         g_list\u001b[38;5;241m.\u001b[39mappend(data)\n",
      "File \u001b[0;32m~/classes/cse/mohanIGMC/IGMC/util_functions.py:220\u001b[0m, in \u001b[0;36msubgraph_extraction_labeling\u001b[0;34m(ind, Arow, Acol, h, sample_ratio, max_nodes_per_hop, u_features, v_features, class_values, y)\u001b[0m\n\u001b[1;32m    218\u001b[0m u_fringe, v_fringe \u001b[38;5;241m=\u001b[39m \u001b[38;5;28mset\u001b[39m([ind[\u001b[38;5;241m0\u001b[39m]]), \u001b[38;5;28mset\u001b[39m([ind[\u001b[38;5;241m1\u001b[39m]])\n\u001b[1;32m    219\u001b[0m \u001b[38;5;28;01mfor\u001b[39;00m dist \u001b[38;5;129;01min\u001b[39;00m \u001b[38;5;28mrange\u001b[39m(\u001b[38;5;241m1\u001b[39m, h\u001b[38;5;241m+\u001b[39m\u001b[38;5;241m1\u001b[39m):\n\u001b[0;32m--> 220\u001b[0m     v_fringe, u_fringe \u001b[38;5;241m=\u001b[39m neighbors(u_fringe, Arow), \u001b[43mneighbors\u001b[49m\u001b[43m(\u001b[49m\u001b[43mv_fringe\u001b[49m\u001b[43m,\u001b[49m\u001b[43m \u001b[49m\u001b[43mAcol\u001b[49m\u001b[43m)\u001b[49m\n\u001b[1;32m    221\u001b[0m     u_fringe \u001b[38;5;241m=\u001b[39m u_fringe \u001b[38;5;241m-\u001b[39m u_visited\n\u001b[1;32m    222\u001b[0m     v_fringe \u001b[38;5;241m=\u001b[39m v_fringe \u001b[38;5;241m-\u001b[39m v_visited\n",
      "File \u001b[0;32m~/classes/cse/mohanIGMC/IGMC/util_functions.py:308\u001b[0m, in \u001b[0;36mneighbors\u001b[0;34m(fringe, A)\u001b[0m\n\u001b[1;32m    306\u001b[0m \u001b[38;5;28;01mif\u001b[39;00m \u001b[38;5;129;01mnot\u001b[39;00m fringe:\n\u001b[1;32m    307\u001b[0m     \u001b[38;5;28;01mreturn\u001b[39;00m \u001b[38;5;28mset\u001b[39m([])\n\u001b[0;32m--> 308\u001b[0m \u001b[38;5;28;01mreturn\u001b[39;00m \u001b[38;5;28mset\u001b[39m(\u001b[43mA\u001b[49m\u001b[43m[\u001b[49m\u001b[38;5;28;43mlist\u001b[39;49m\u001b[43m(\u001b[49m\u001b[43mfringe\u001b[49m\u001b[43m)\u001b[49m\u001b[43m]\u001b[49m\u001b[38;5;241m.\u001b[39mindices)\n",
      "File \u001b[0;32m~/classes/cse/mohanIGMC/IGMC/util_functions.py:61\u001b[0m, in \u001b[0;36mSparseColIndexer.__getitem__\u001b[0;34m(self, col_selector)\u001b[0m\n\u001b[1;32m     60\u001b[0m \u001b[38;5;28;01mdef\u001b[39;00m \u001b[38;5;21m__getitem__\u001b[39m(\u001b[38;5;28mself\u001b[39m, col_selector):\n\u001b[0;32m---> 61\u001b[0m     indices \u001b[38;5;241m=\u001b[39m np\u001b[38;5;241m.\u001b[39mconcatenate(\u001b[38;5;28;43mself\u001b[39;49m\u001b[38;5;241;43m.\u001b[39;49m\u001b[43mindices\u001b[49m\u001b[43m[\u001b[49m\u001b[43mcol_selector\u001b[49m\u001b[43m]\u001b[49m)\n\u001b[1;32m     62\u001b[0m     data \u001b[38;5;241m=\u001b[39m np\u001b[38;5;241m.\u001b[39mconcatenate(\u001b[38;5;28mself\u001b[39m\u001b[38;5;241m.\u001b[39mdata[col_selector])\n\u001b[1;32m     63\u001b[0m     indptr \u001b[38;5;241m=\u001b[39m np\u001b[38;5;241m.\u001b[39mappend(\u001b[38;5;241m0\u001b[39m, np\u001b[38;5;241m.\u001b[39mcumsum(\u001b[38;5;28mself\u001b[39m\u001b[38;5;241m.\u001b[39mindptr[col_selector]))\n",
      "\u001b[0;31mIndexError\u001b[0m: index 3706 is out of bounds for axis 0 with size 3706"
     ]
    }
   ],
   "source": [
    "\n",
    "data_name = 'ml_1m_stratified'\n",
    "\n",
    "ratio = 0\n",
    "rating_map = None\n",
    "post_rating_map = None\n",
    "adj_dropout = 0\n",
    "max_nodes_per_hop = 100\n",
    "data_appendix =\"_mnph10\"\n",
    "epochs = 40\n",
    "val_test_appendix = \"testmode\"\n",
    "\n",
    "datasplit_path = (\n",
    "            'raw_data/' + data_name + '/split_seed' + str(1234) + \n",
    "            '.pickle'\n",
    "        )\n",
    "\n",
    "if data_name in ['flixster', 'douban', 'yahoo_music']:\n",
    "    (\n",
    "        u_features, v_features, adj_train, train_labels, train_u_indices, train_v_indices,\n",
    "        val_labels, val_u_indices, val_v_indices, test_labels, test_u_indices, \n",
    "        test_v_indices, class_values\n",
    "    ) = load_data_monti(data_name, True, rating_map, post_rating_map)\n",
    "elif data_name == 'ml_100k':\n",
    "    print(\"Using official MovieLens split u1.base/u1.test with 20% validation...\")\n",
    "    (\n",
    "        u_features, v_features, adj_train, train_labels, train_u_indices, train_v_indices,\n",
    "        val_labels, val_u_indices, val_v_indices, test_labels, test_u_indices, \n",
    "        test_v_indices, class_values\n",
    "    ) = load_official_trainvaltest_split(\n",
    "        data_name, True, rating_map, post_rating_map, 1.0\n",
    "    )\n",
    "elif data_name == \"ml_1m_stratified\" or  data_name == \"goodreads_stratified\":\n",
    "    print(\"loading from file without features\")\n",
    "    (\n",
    "        u_features, v_features, adj_train, train_labels, train_u_indices, train_v_indices,\n",
    "        val_labels, val_u_indices, val_v_indices, test_labels, test_u_indices, \n",
    "        test_v_indices, class_values,  testtopk_u_indices, testtopk_v_indices\n",
    "    ) = load_from_file(\n",
    "        data_name, True, rating_map, post_rating_map, 1.0\n",
    "    )\n",
    "\n",
    "else:\n",
    "    (\n",
    "        u_features, v_features, adj_train, train_labels, train_u_indices, train_v_indices,\n",
    "        val_labels, val_u_indices, val_v_indices, test_labels, test_u_indices, \n",
    "        test_v_indices, class_values\n",
    "    ) = create_trainvaltest_split(\n",
    "        data_name, 1234, True, datasplit_path, True, True, rating_map, \n",
    "        post_rating_map, 1.0\n",
    "    )\n",
    "\n",
    "# print(\"loading from file without features\")\n",
    "\n",
    "# (\n",
    "#     u_features, v_features, adj_train, train_labels, train_u_indices, train_v_indices,\n",
    "#     val_labels, val_u_indices, val_v_indices, test_labels, test_u_indices, \n",
    "#     test_v_indices, class_values\n",
    "# ) = load_from_file(\n",
    "#     data_name, True, rating_map, post_rating_map, 1.0\n",
    "# )\n",
    "\n",
    "u_features, v_features = None, None\n",
    "n_features = 0\n",
    "\n",
    "\n",
    "train_indices = (train_u_indices, train_v_indices)\n",
    "\n",
    "test_indices = (test_u_indices, test_v_indices)\n",
    "l = len(test_u_indices)\n",
    "testtopk_indices = (testtopk_u_indices, testtopk_v_indices)\n",
    "\n",
    "# testtopk_indices = (testtopk_u_indices[:l], testtopk_v_indices[:l])\n",
    "\n",
    "\n",
    "\n",
    "train_graphs, val_graphs, test_graphs = None, None, None\n",
    "\n",
    "data_combo = (data_name, data_appendix, val_test_appendix)\n",
    "file_dir = os.path.dirname(os.path.realpath('__file__'))\n",
    "\n",
    "res_dir = os.path.join(\n",
    "    file_dir, 'results/{}{}_{}'.format(\n",
    "        data_name, '', val_test_appendix\n",
    "    )\n",
    ")\n",
    "\n",
    "# dataset_class = 'MyDynamicDataset' \n",
    "\n",
    "dataset_class = 'MyDataset'\n",
    "print('++++++++++++++++= start herererer')\n",
    "\n",
    "evaled = eval(dataset_class)\n",
    "print('done here')\n",
    "print(evaled)\n",
    "\n",
    "train_graphs = eval(dataset_class)(\n",
    "    'data/{}{}/{}/train'.format(*data_combo),\n",
    "    adj_train, \n",
    "    train_indices, \n",
    "    train_labels, \n",
    "    1, \n",
    "    1.0, \n",
    "    max_nodes_per_hop, \n",
    "    u_features, \n",
    "    v_features, \n",
    "    class_values, \n",
    "    max_num=None,\n",
    "    parallel=False\n",
    ")\n",
    "\n",
    "\n",
    "test_graphs = eval(dataset_class)(\n",
    "    'data/{}{}/{}/test'.format(*data_combo),\n",
    "    adj_train, \n",
    "    test_indices, \n",
    "    test_labels, \n",
    "    1,\n",
    "    1.0,\n",
    "    max_nodes_per_hop, \n",
    "    u_features, \n",
    "    v_features, \n",
    "    class_values, \n",
    "    max_num=None,\n",
    "    parallel=False\n",
    ")\n",
    "\n",
    "\n",
    "# test_graphs_topk = eval(dataset_class)(\n",
    "#     'data/{}{}/{}/testtopk'.format(*data_combo),\n",
    "#     adj_train, \n",
    "#     testtopk_indices, \n",
    "#     # test_indices,\n",
    "#     # test_labels, \n",
    "#     np.random.randint(5, size=len(testtopk_indices[0])), \n",
    "#     1,\n",
    "#     1.0,\n",
    "#     max_nodes_per_hop, \n",
    "#     u_features, \n",
    "#     v_features, \n",
    "#     class_values, \n",
    "#     max_num=None,\n",
    "#     parallel=False\n",
    "# )\n",
    "# print(np.random.randint(5, size=len(testtopk_indices)).shape)\n",
    "# print(len(testtopk_indices[0]))\n",
    "# print(len(test_graphs_topk))\n",
    "# print(len(test_graphs))\n",
    "\n",
    "# num_relations = len(class_values)\n",
    "# multiply_by = 1"
   ]
  },
  {
   "cell_type": "code",
   "execution_count": 4,
   "id": "c50b6b93",
   "metadata": {},
   "outputs": [],
   "source": [
    "num_relations = len(class_values)\n",
    "multiply_by = 1\n",
    "model = IGMC (\n",
    "        train_graphs, \n",
    "        latent_dim=[32, 32, 32, 32], \n",
    "        num_relations=num_relations, \n",
    "        num_bases=4, \n",
    "        regression=True, \n",
    "        adj_dropout=adj_dropout, \n",
    "        force_undirected=False, \n",
    "        side_features=False,\n",
    "        n_side_features=n_features, \n",
    "        multiply_by=multiply_by\n",
    "    )"
   ]
  },
  {
   "cell_type": "code",
   "execution_count": 9,
   "id": "557d0336",
   "metadata": {},
   "outputs": [
    {
     "data": {
      "text/plain": [
       "MyDataset(88077)"
      ]
     },
     "execution_count": 9,
     "metadata": {},
     "output_type": "execute_result"
    }
   ],
   "source": []
  },
  {
   "cell_type": "code",
   "execution_count": 11,
   "id": "15f2d7b0",
   "metadata": {},
   "outputs": [
    {
     "name": "stdout",
     "output_type": "stream",
     "text": [
      "convs.0.weight torch.Size([4, 4, 32])\n",
      "convs.0.comp torch.Size([5, 4])\n",
      "convs.0.root torch.Size([4, 32])\n",
      "convs.0.bias torch.Size([32])\n",
      "convs.1.weight torch.Size([4, 32, 32])\n",
      "convs.1.comp torch.Size([5, 4])\n",
      "convs.1.root torch.Size([32, 32])\n",
      "convs.1.bias torch.Size([32])\n",
      "convs.2.weight torch.Size([4, 32, 32])\n",
      "convs.2.comp torch.Size([5, 4])\n",
      "convs.2.root torch.Size([32, 32])\n",
      "convs.2.bias torch.Size([32])\n",
      "convs.3.weight torch.Size([4, 32, 32])\n",
      "convs.3.comp torch.Size([5, 4])\n",
      "convs.3.root torch.Size([32, 32])\n",
      "convs.3.bias torch.Size([32])\n",
      "lin1.weight torch.Size([128, 256])\n",
      "lin1.bias torch.Size([128])\n",
      "lin2.weight torch.Size([1, 128])\n",
      "lin2.bias torch.Size([1])\n"
     ]
    }
   ],
   "source": [
    "# for param in model.parameters():\n",
    "#     print(param)\n",
    "\n",
    "# or\n",
    "for name, param in model.named_parameters():\n",
    "    print(name, param.shape)\n"
   ]
  },
  {
   "cell_type": "code",
   "execution_count": 12,
   "id": "729871f1",
   "metadata": {},
   "outputs": [
    {
     "name": "stderr",
     "output_type": "stream",
     "text": [
      "/opt/homebrew/Caskroom/miniforge/base/envs/torchgeo/lib/python3.10/site-packages/torch_geometric/deprecation.py:12: UserWarning: 'data.DataLoader' is deprecated, use 'loader.DataLoader' instead\n",
      "  warnings.warn(out)\n"
     ]
    },
    {
     "name": "stdout",
     "output_type": "stream",
     "text": [
      "Testing begins...\n"
     ]
    },
    {
     "name": "stderr",
     "output_type": "stream",
     "text": [
      "100%|█████████████████████████████████████████| 262/262 [00:05<00:00, 48.80it/s]\n",
      "/Users/mohandodda/classes/cse/mohanIGMC/IGMC/train_eval.py:397: VisibleDeprecationWarning: Creating an ndarray from ragged nested sequences (which is a list-or-tuple of lists-or-tuples-or ndarrays with different lengths or shapes) is deprecated. If you meant to do this, you must specify 'dtype=object' when creating the ndarray.\n",
      "  df = pd.DataFrame(np.array([test_dataset.links[0], test_dataset.links[1], ys, outs ]).T,  columns=['user', 'item', 'actual', 'predicted'])\n"
     ]
    },
    {
     "ename": "ValueError",
     "evalue": "Shape of passed values is (4, 1), indices imply (4, 4)",
     "output_type": "error",
     "traceback": [
      "\u001b[0;31m---------------------------------------------------------------------------\u001b[0m",
      "\u001b[0;31mValueError\u001b[0m                                Traceback (most recent call last)",
      "Input \u001b[0;32mIn [12]\u001b[0m, in \u001b[0;36m<cell line: 1>\u001b[0;34m()\u001b[0m\n\u001b[0;32m----> 1\u001b[0m score \u001b[38;5;241m=\u001b[39m \u001b[43mtest_once\u001b[49m\u001b[43m(\u001b[49m\u001b[43mtest_graphs\u001b[49m\u001b[43m,\u001b[49m\u001b[43m \u001b[49m\u001b[43mmodel\u001b[49m\u001b[43m,\u001b[49m\u001b[43m \u001b[49m\u001b[38;5;241;43m50\u001b[39;49m\u001b[43m,\u001b[49m\u001b[43m \u001b[49m\u001b[43mlogger\u001b[49m\u001b[38;5;241;43m=\u001b[39;49m\u001b[38;5;28;43;01mNone\u001b[39;49;00m\u001b[43m,\u001b[49m\u001b[43m \u001b[49m\u001b[43mevalmethod\u001b[49m\u001b[38;5;241;43m=\u001b[39;49m\u001b[38;5;124;43m'\u001b[39;49m\u001b[38;5;124;43mrmse\u001b[39;49m\u001b[38;5;124;43m'\u001b[39;49m\u001b[43m)\u001b[49m\n",
      "File \u001b[0;32m~/classes/cse/mohanIGMC/IGMC/train_eval.py:132\u001b[0m, in \u001b[0;36mtest_once\u001b[0;34m(test_dataset, model, batch_size, logger, ensemble, checkpoints, evalmethod, test_graphs)\u001b[0m\n\u001b[1;32m    130\u001b[0m         score \u001b[38;5;241m=\u001b[39m eval_rmse_ensemble(model, checkpoints, test_loader, device, show_progress\u001b[38;5;241m=\u001b[39m\u001b[38;5;28;01mTrue\u001b[39;00m)\n\u001b[1;32m    131\u001b[0m     \u001b[38;5;28;01melse\u001b[39;00m:\n\u001b[0;32m--> 132\u001b[0m         score \u001b[38;5;241m=\u001b[39m \u001b[43meval_rmse\u001b[49m\u001b[43m(\u001b[49m\u001b[43mmodel\u001b[49m\u001b[43m,\u001b[49m\u001b[43m \u001b[49m\u001b[43mtest_loader\u001b[49m\u001b[43m,\u001b[49m\u001b[43m \u001b[49m\u001b[43mdevice\u001b[49m\u001b[43m,\u001b[49m\u001b[43m \u001b[49m\u001b[43mtest_dataset\u001b[49m\u001b[38;5;241;43m=\u001b[39;49m\u001b[43mtest_dataset\u001b[49m\u001b[43m,\u001b[49m\u001b[43m \u001b[49m\u001b[43mshow_progress\u001b[49m\u001b[38;5;241;43m=\u001b[39;49m\u001b[38;5;28;43;01mTrue\u001b[39;49;00m\u001b[43m)\u001b[49m\n\u001b[1;32m    133\u001b[0m \u001b[38;5;28;01melif\u001b[39;00m evalmethod \u001b[38;5;241m==\u001b[39m \u001b[38;5;124m'\u001b[39m\u001b[38;5;124mrecall\u001b[39m\u001b[38;5;124m'\u001b[39m:\n\u001b[1;32m    134\u001b[0m     \u001b[38;5;66;03m# if ensemble and checkpoints:\u001b[39;00m\n\u001b[1;32m    135\u001b[0m     \u001b[38;5;66;03m#     score = eval_recall_ensemble(model, checkpoints, test_dataset, device, show_progress=True)\u001b[39;00m\n\u001b[1;32m    136\u001b[0m     \u001b[38;5;66;03m# else:\u001b[39;00m\n\u001b[1;32m    137\u001b[0m     \u001b[38;5;66;03m#     score = eval_recall(model, test_dataset, device, show_progress=True)\u001b[39;00m\n\u001b[1;32m    138\u001b[0m     score \u001b[38;5;241m=\u001b[39m eval_recall(model, test_loader, device, test_dataset, test_graphs, show_progress\u001b[38;5;241m=\u001b[39m\u001b[38;5;28;01mTrue\u001b[39;00m)\n",
      "File \u001b[0;32m~/classes/cse/mohanIGMC/IGMC/train_eval.py:404\u001b[0m, in \u001b[0;36meval_rmse\u001b[0;34m(model, loader, device, test_dataset, show_progress)\u001b[0m\n\u001b[1;32m    403\u001b[0m \u001b[38;5;28;01mdef\u001b[39;00m \u001b[38;5;21meval_rmse\u001b[39m(model, loader, device, test_dataset\u001b[38;5;241m=\u001b[39m\u001b[38;5;28;01mNone\u001b[39;00m, show_progress\u001b[38;5;241m=\u001b[39m\u001b[38;5;28;01mFalse\u001b[39;00m):\n\u001b[0;32m--> 404\u001b[0m     mse_loss \u001b[38;5;241m=\u001b[39m \u001b[43meval_loss\u001b[49m\u001b[43m(\u001b[49m\u001b[43mmodel\u001b[49m\u001b[43m,\u001b[49m\u001b[43m \u001b[49m\u001b[43mloader\u001b[49m\u001b[43m,\u001b[49m\u001b[43m \u001b[49m\u001b[43mdevice\u001b[49m\u001b[43m,\u001b[49m\u001b[43m \u001b[49m\u001b[38;5;28;43;01mTrue\u001b[39;49;00m\u001b[43m,\u001b[49m\u001b[43m \u001b[49m\u001b[43mtest_dataset\u001b[49m\u001b[43m,\u001b[49m\u001b[43mshow_progress\u001b[49m\u001b[43m)\u001b[49m\n\u001b[1;32m    405\u001b[0m     rmse \u001b[38;5;241m=\u001b[39m math\u001b[38;5;241m.\u001b[39msqrt(mse_loss)\n\u001b[1;32m    406\u001b[0m     \u001b[38;5;28;01mreturn\u001b[39;00m rmse\n",
      "File \u001b[0;32m~/classes/cse/mohanIGMC/IGMC/train_eval.py:397\u001b[0m, in \u001b[0;36meval_loss\u001b[0;34m(model, loader, device, regression, test_dataset, show_progress)\u001b[0m\n\u001b[1;32m    394\u001b[0m     outs \u001b[38;5;241m=\u001b[39m outs\u001b[38;5;241m.\u001b[39mcpu()\u001b[38;5;241m.\u001b[39mdetach()\u001b[38;5;241m.\u001b[39mnumpy()\n\u001b[1;32m    396\u001b[0m     \u001b[38;5;66;03m# print(np.array([test_dataset.links[0], test_dataset.links[1], ys, outs ]).shape)\u001b[39;00m\n\u001b[0;32m--> 397\u001b[0m     df \u001b[38;5;241m=\u001b[39m \u001b[43mpd\u001b[49m\u001b[38;5;241;43m.\u001b[39;49m\u001b[43mDataFrame\u001b[49m\u001b[43m(\u001b[49m\u001b[43mnp\u001b[49m\u001b[38;5;241;43m.\u001b[39;49m\u001b[43marray\u001b[49m\u001b[43m(\u001b[49m\u001b[43m[\u001b[49m\u001b[43mtest_dataset\u001b[49m\u001b[38;5;241;43m.\u001b[39;49m\u001b[43mlinks\u001b[49m\u001b[43m[\u001b[49m\u001b[38;5;241;43m0\u001b[39;49m\u001b[43m]\u001b[49m\u001b[43m,\u001b[49m\u001b[43m \u001b[49m\u001b[43mtest_dataset\u001b[49m\u001b[38;5;241;43m.\u001b[39;49m\u001b[43mlinks\u001b[49m\u001b[43m[\u001b[49m\u001b[38;5;241;43m1\u001b[39;49m\u001b[43m]\u001b[49m\u001b[43m,\u001b[49m\u001b[43m \u001b[49m\u001b[43mys\u001b[49m\u001b[43m,\u001b[49m\u001b[43m \u001b[49m\u001b[43mouts\u001b[49m\u001b[43m \u001b[49m\u001b[43m]\u001b[49m\u001b[43m)\u001b[49m\u001b[38;5;241;43m.\u001b[39;49m\u001b[43mT\u001b[49m\u001b[43m,\u001b[49m\u001b[43m  \u001b[49m\u001b[43mcolumns\u001b[49m\u001b[38;5;241;43m=\u001b[39;49m\u001b[43m[\u001b[49m\u001b[38;5;124;43m'\u001b[39;49m\u001b[38;5;124;43muser\u001b[39;49m\u001b[38;5;124;43m'\u001b[39;49m\u001b[43m,\u001b[49m\u001b[43m \u001b[49m\u001b[38;5;124;43m'\u001b[39;49m\u001b[38;5;124;43mitem\u001b[39;49m\u001b[38;5;124;43m'\u001b[39;49m\u001b[43m,\u001b[49m\u001b[43m \u001b[49m\u001b[38;5;124;43m'\u001b[39;49m\u001b[38;5;124;43mactual\u001b[39;49m\u001b[38;5;124;43m'\u001b[39;49m\u001b[43m,\u001b[49m\u001b[43m \u001b[49m\u001b[38;5;124;43m'\u001b[39;49m\u001b[38;5;124;43mpredicted\u001b[39;49m\u001b[38;5;124;43m'\u001b[39;49m\u001b[43m]\u001b[49m\u001b[43m)\u001b[49m\n\u001b[1;32m    398\u001b[0m     df\u001b[38;5;241m.\u001b[39mto_csv(\u001b[38;5;124m'\u001b[39m\u001b[38;5;124mresults/\u001b[39m\u001b[38;5;124m'\u001b[39m\u001b[38;5;241m+\u001b[39m\u001b[38;5;28mstr\u001b[39m(test_dataset)\u001b[38;5;241m+\u001b[39m\u001b[38;5;124m'\u001b[39m\u001b[38;5;124m.csv\u001b[39m\u001b[38;5;124m'\u001b[39m, index\u001b[38;5;241m=\u001b[39m\u001b[38;5;28;01mFalse\u001b[39;00m)\n\u001b[1;32m    400\u001b[0m \u001b[38;5;28;01mreturn\u001b[39;00m loss \u001b[38;5;241m/\u001b[39m \u001b[38;5;28mlen\u001b[39m(loader\u001b[38;5;241m.\u001b[39mdataset)\n",
      "File \u001b[0;32m/opt/homebrew/Caskroom/miniforge/base/envs/torchgeo/lib/python3.10/site-packages/pandas/core/frame.py:694\u001b[0m, in \u001b[0;36mDataFrame.__init__\u001b[0;34m(self, data, index, columns, dtype, copy)\u001b[0m\n\u001b[1;32m    684\u001b[0m         mgr \u001b[38;5;241m=\u001b[39m dict_to_mgr(\n\u001b[1;32m    685\u001b[0m             \u001b[38;5;66;03m# error: Item \"ndarray\" of \"Union[ndarray, Series, Index]\" has no\u001b[39;00m\n\u001b[1;32m    686\u001b[0m             \u001b[38;5;66;03m# attribute \"name\"\u001b[39;00m\n\u001b[0;32m   (...)\u001b[0m\n\u001b[1;32m    691\u001b[0m             typ\u001b[38;5;241m=\u001b[39mmanager,\n\u001b[1;32m    692\u001b[0m         )\n\u001b[1;32m    693\u001b[0m     \u001b[38;5;28;01melse\u001b[39;00m:\n\u001b[0;32m--> 694\u001b[0m         mgr \u001b[38;5;241m=\u001b[39m \u001b[43mndarray_to_mgr\u001b[49m\u001b[43m(\u001b[49m\n\u001b[1;32m    695\u001b[0m \u001b[43m            \u001b[49m\u001b[43mdata\u001b[49m\u001b[43m,\u001b[49m\n\u001b[1;32m    696\u001b[0m \u001b[43m            \u001b[49m\u001b[43mindex\u001b[49m\u001b[43m,\u001b[49m\n\u001b[1;32m    697\u001b[0m \u001b[43m            \u001b[49m\u001b[43mcolumns\u001b[49m\u001b[43m,\u001b[49m\n\u001b[1;32m    698\u001b[0m \u001b[43m            \u001b[49m\u001b[43mdtype\u001b[49m\u001b[38;5;241;43m=\u001b[39;49m\u001b[43mdtype\u001b[49m\u001b[43m,\u001b[49m\n\u001b[1;32m    699\u001b[0m \u001b[43m            \u001b[49m\u001b[43mcopy\u001b[49m\u001b[38;5;241;43m=\u001b[39;49m\u001b[43mcopy\u001b[49m\u001b[43m,\u001b[49m\n\u001b[1;32m    700\u001b[0m \u001b[43m            \u001b[49m\u001b[43mtyp\u001b[49m\u001b[38;5;241;43m=\u001b[39;49m\u001b[43mmanager\u001b[49m\u001b[43m,\u001b[49m\n\u001b[1;32m    701\u001b[0m \u001b[43m        \u001b[49m\u001b[43m)\u001b[49m\n\u001b[1;32m    703\u001b[0m \u001b[38;5;66;03m# For data is list-like, or Iterable (will consume into list)\u001b[39;00m\n\u001b[1;32m    704\u001b[0m \u001b[38;5;28;01melif\u001b[39;00m is_list_like(data):\n",
      "File \u001b[0;32m/opt/homebrew/Caskroom/miniforge/base/envs/torchgeo/lib/python3.10/site-packages/pandas/core/internals/construction.py:351\u001b[0m, in \u001b[0;36mndarray_to_mgr\u001b[0;34m(values, index, columns, dtype, copy, typ)\u001b[0m\n\u001b[1;32m    346\u001b[0m \u001b[38;5;66;03m# _prep_ndarray ensures that values.ndim == 2 at this point\u001b[39;00m\n\u001b[1;32m    347\u001b[0m index, columns \u001b[38;5;241m=\u001b[39m _get_axes(\n\u001b[1;32m    348\u001b[0m     values\u001b[38;5;241m.\u001b[39mshape[\u001b[38;5;241m0\u001b[39m], values\u001b[38;5;241m.\u001b[39mshape[\u001b[38;5;241m1\u001b[39m], index\u001b[38;5;241m=\u001b[39mindex, columns\u001b[38;5;241m=\u001b[39mcolumns\n\u001b[1;32m    349\u001b[0m )\n\u001b[0;32m--> 351\u001b[0m \u001b[43m_check_values_indices_shape_match\u001b[49m\u001b[43m(\u001b[49m\u001b[43mvalues\u001b[49m\u001b[43m,\u001b[49m\u001b[43m \u001b[49m\u001b[43mindex\u001b[49m\u001b[43m,\u001b[49m\u001b[43m \u001b[49m\u001b[43mcolumns\u001b[49m\u001b[43m)\u001b[49m\n\u001b[1;32m    353\u001b[0m \u001b[38;5;28;01mif\u001b[39;00m typ \u001b[38;5;241m==\u001b[39m \u001b[38;5;124m\"\u001b[39m\u001b[38;5;124marray\u001b[39m\u001b[38;5;124m\"\u001b[39m:\n\u001b[1;32m    355\u001b[0m     \u001b[38;5;28;01mif\u001b[39;00m \u001b[38;5;28missubclass\u001b[39m(values\u001b[38;5;241m.\u001b[39mdtype\u001b[38;5;241m.\u001b[39mtype, \u001b[38;5;28mstr\u001b[39m):\n",
      "File \u001b[0;32m/opt/homebrew/Caskroom/miniforge/base/envs/torchgeo/lib/python3.10/site-packages/pandas/core/internals/construction.py:422\u001b[0m, in \u001b[0;36m_check_values_indices_shape_match\u001b[0;34m(values, index, columns)\u001b[0m\n\u001b[1;32m    420\u001b[0m passed \u001b[38;5;241m=\u001b[39m values\u001b[38;5;241m.\u001b[39mshape\n\u001b[1;32m    421\u001b[0m implied \u001b[38;5;241m=\u001b[39m (\u001b[38;5;28mlen\u001b[39m(index), \u001b[38;5;28mlen\u001b[39m(columns))\n\u001b[0;32m--> 422\u001b[0m \u001b[38;5;28;01mraise\u001b[39;00m \u001b[38;5;167;01mValueError\u001b[39;00m(\u001b[38;5;124mf\u001b[39m\u001b[38;5;124m\"\u001b[39m\u001b[38;5;124mShape of passed values is \u001b[39m\u001b[38;5;132;01m{\u001b[39;00mpassed\u001b[38;5;132;01m}\u001b[39;00m\u001b[38;5;124m, indices imply \u001b[39m\u001b[38;5;132;01m{\u001b[39;00mimplied\u001b[38;5;132;01m}\u001b[39;00m\u001b[38;5;124m\"\u001b[39m)\n",
      "\u001b[0;31mValueError\u001b[0m: Shape of passed values is (4, 1), indices imply (4, 4)"
     ]
    }
   ],
   "source": [
    "score = test_once(test_graphs, model, 50, logger=None, evalmethod='rmse')\n"
   ]
  },
  {
   "cell_type": "code",
   "execution_count": null,
   "id": "41d4dd7c",
   "metadata": {},
   "outputs": [],
   "source": []
  }
 ],
 "metadata": {
  "kernelspec": {
   "display_name": "Python 3 (ipykernel)",
   "language": "python",
   "name": "python3"
  },
  "language_info": {
   "codemirror_mode": {
    "name": "ipython",
    "version": 3
   },
   "file_extension": ".py",
   "mimetype": "text/x-python",
   "name": "python",
   "nbconvert_exporter": "python",
   "pygments_lexer": "ipython3",
   "version": "3.10.4"
  }
 },
 "nbformat": 4,
 "nbformat_minor": 5
}
