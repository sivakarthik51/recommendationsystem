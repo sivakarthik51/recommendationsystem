{
 "cells": [
  {
   "cell_type": "code",
   "execution_count": 64,
   "id": "c91d77f4",
   "metadata": {},
   "outputs": [],
   "source": [
    "import pandas as pd"
   ]
  },
  {
   "cell_type": "code",
   "execution_count": 65,
   "id": "46c55e91",
   "metadata": {},
   "outputs": [],
   "source": [
    "import numpy as np"
   ]
  },
  {
   "cell_type": "code",
   "execution_count": 43,
   "id": "e28b8832",
   "metadata": {},
   "outputs": [],
   "source": [
    "df = pd.read_csv('results/ml_1m_stratified_output.csv')"
   ]
  },
  {
   "cell_type": "code",
   "execution_count": 56,
   "id": "32c36d74",
   "metadata": {},
   "outputs": [],
   "source": [
    "df = pd.read_csv('results/goodreads3.csv')"
   ]
  },
  {
   "cell_type": "code",
   "execution_count": 66,
   "id": "269ee8f4",
   "metadata": {},
   "outputs": [],
   "source": [
    "df = pd.read_csv('results/goodreadsonmovielens.csv')"
   ]
  },
  {
   "cell_type": "code",
   "execution_count": 74,
   "id": "06f6a4dc",
   "metadata": {},
   "outputs": [],
   "source": [
    "df = pd.read_csv('results/movielensongoodreads.csv')"
   ]
  },
  {
   "cell_type": "code",
   "execution_count": 75,
   "id": "9d1444c9",
   "metadata": {},
   "outputs": [
    {
     "data": {
      "text/plain": [
       "(user         6039.000000\n",
       " item         3705.000000\n",
       " actual          5.000000\n",
       " predicted       5.072272\n",
       " dtype: float64,\n",
       " user         6039.000000\n",
       " item         3705.000000\n",
       " actual          5.000000\n",
       " predicted       5.347891\n",
       " dtype: float64,\n",
       " 6040)"
      ]
     },
     "execution_count": 75,
     "metadata": {},
     "output_type": "execute_result"
    }
   ],
   "source": [
    "df.max(), df2.max(), len(df['user'].unique())"
   ]
  },
  {
   "cell_type": "code",
   "execution_count": 76,
   "id": "e218d8bb",
   "metadata": {},
   "outputs": [
    {
     "name": "stdout",
     "output_type": "stream",
     "text": [
      "0.6950436685487072\n"
     ]
    },
    {
     "data": {
      "text/plain": [
       "0.8095269287606246"
      ]
     },
     "execution_count": 76,
     "metadata": {},
     "output_type": "execute_result"
    }
   ],
   "source": [
    "from collections import defaultdict\n",
    "# top_n = defaultdict(list)\n",
    "# for i, (uid, iid, true_r, est, _) in df.iterrows():\n",
    "#     top_n[uid].append((iid, est))\n",
    "k = 20\n",
    "user_est_true = defaultdict(list)\n",
    "precisions = dict()\n",
    "recalls = dict()\n",
    "for i, (uid, _, true_r, est) in df.iterrows():\n",
    "    user_est_true[uid].append((est, true_r))\n",
    "threshold = 3.5\n",
    "for uid, user_ratings in user_est_true.items():\n",
    "    user_ratings.sort(key=lambda x: x[0], reverse=True)\n",
    "    n_rel = sum((true_r >= threshold) for (_, true_r) in user_ratings)\n",
    "\n",
    "    n_rec_k = sum((est >= threshold) for (est, _) in user_ratings[:k])\n",
    "\n",
    "    n_rel_and_rec_k = sum(((true_r >= threshold) and (est >= threshold))\n",
    "                          for (est, true_r) in user_ratings[:k])\n",
    "\n",
    "\n",
    "    precisions[uid] = n_rel_and_rec_k / n_rec_k if n_rec_k != 0 else 0\n",
    "\n",
    "    recalls[uid] = n_rel_and_rec_k / n_rel if n_rel != 0 else 0\n",
    "print(np.array(list(precisions.values())).mean())\n",
    "np.array(list(recalls.values())).mean()"
   ]
  },
  {
   "cell_type": "code",
   "execution_count": 78,
   "id": "a9f0922a",
   "metadata": {},
   "outputs": [
    {
     "name": "stdout",
     "output_type": "stream",
     "text": [
      "0.6843117549078006\n"
     ]
    },
    {
     "data": {
      "text/plain": [
       "0.4728581165986266"
      ]
     },
     "execution_count": 78,
     "metadata": {},
     "output_type": "execute_result"
    }
   ],
   "source": [
    "from collections import defaultdict\n",
    "# top_n = defaultdict(list)\n",
    "# for i, (uid, iid, true_r, est, _) in df.iterrows():\n",
    "#     top_n[uid].append((iid, est))\n",
    "k = 20\n",
    "user_est_true = defaultdict(list)\n",
    "precisions = dict()\n",
    "recalls = dict()\n",
    "for i, (uid, _, true_r, est) in df.iterrows():\n",
    "    user_est_true[uid].append((est, true_r))\n",
    "threshold = 4.0\n",
    "for uid, user_ratings in user_est_true.items():\n",
    "    user_ratings.sort(key=lambda x: x[0], reverse=True)\n",
    "    n_rel = sum((true_r >= threshold) for (_, true_r) in user_ratings)\n",
    "\n",
    "    n_rec_k = sum((est >= threshold) for (est, _) in user_ratings[:k])\n",
    "\n",
    "    n_rel_and_rec_k = sum(((true_r >= threshold) and (est >= threshold))\n",
    "                          for (est, true_r) in user_ratings[:k])\n",
    "\n",
    "\n",
    "    precisions[uid] = n_rel_and_rec_k / n_rec_k if n_rec_k != 0 else 0\n",
    "\n",
    "    recalls[uid] = n_rel_and_rec_k / n_rel if n_rel != 0 else 0\n",
    "print(np.array(list(precisions.values())).mean())\n",
    "np.array(list(recalls.values())).mean()"
   ]
  },
  {
   "cell_type": "code",
   "execution_count": null,
   "id": "58e844ab",
   "metadata": {},
   "outputs": [],
   "source": []
  },
  {
   "cell_type": "code",
   "execution_count": 55,
   "id": "e231695d",
   "metadata": {},
   "outputs": [
    {
     "data": {
      "text/plain": [
       "0.99000292283495"
      ]
     },
     "execution_count": 55,
     "metadata": {},
     "output_type": "execute_result"
    }
   ],
   "source": [
    "from sklearn.metrics import ndcg_score\n",
    "from scipy import sparse\n",
    "    \n",
    "k = 20\n",
    "\n",
    "sparse_preds = sparse.coo_matrix( (df['predicted'].values, (df['user'].values.astype(int) , df['item'].values.astype(int) )) )\n",
    "sparse_vals = sparse.coo_matrix( (df['actual'].values, (df['user'].values.astype(int) , df['item'].values.astype(int)  )) )\n",
    "\n",
    "dense_preds = sparse_preds.toarray()\n",
    "dense_vals = sparse_vals.toarray()\n",
    "\n",
    "ndcg_score(y_true= dense_vals , y_score= dense_preds, k=k)"
   ]
  },
  {
   "cell_type": "code",
   "execution_count": 88,
   "id": "fbda25f0",
   "metadata": {},
   "outputs": [],
   "source": [
    "goodreadsrecall =[0.9266789071,0.6842655752,0.357084869,0.1169100196]\n",
    "movielensrecall = [0.8875755718,0.7434914908,0.43254449,0.1151738985]\n",
    "gooreadprecision = [0.9118082159,0.6488415356,0.4037248631,0.1319665228]\n",
    "movielensprecision = [0.897140569,0.7293984856,0.7022147198,0.2232845117]\n",
    "\n",
    "thresholds = [3.0, 3.5, 4.0, 4.5]"
   ]
  },
  {
   "cell_type": "code",
   "execution_count": 89,
   "id": "33998186",
   "metadata": {},
   "outputs": [],
   "source": [
    "import matplotlib.pyplot as plt"
   ]
  },
  {
   "cell_type": "code",
   "execution_count": 93,
   "id": "811020e6",
   "metadata": {},
   "outputs": [
    {
     "data": {
      "image/png": "[encoded data removed]",
      "text/plain": [
       "<Figure size 432x288 with 1 Axes>"
      ]
     },
     "metadata": {
      "needs_background": "light"
     },
     "output_type": "display_data"
    }
   ],
   "source": [
    "plt.plot(thresholds,goodreadsrecall, color='red', marker='v')\n",
    "plt.plot(thresholds,movielensrecall, color='blue', marker='o')\n",
    "# plt.plot(thresholds,gooreadprecision, color='red', marker='v')\n",
    "# plt.plot(thresholds,movielensprecision, color='blue', marker='o')\n",
    "plt.title('Recall@20 over Thresholds')\n",
    "plt.xlabel('Thresholds')\n",
    "plt.ylabel('Recall@20 Score')\n",
    "plt.xticks(thresholds) \n",
    "plt.show()"
   ]
  },
  {
   "cell_type": "code",
   "execution_count": null,
   "id": "d3efa4ea",
   "metadata": {},
   "outputs": [],
   "source": []
  }
 ],
 "metadata": {
  "kernelspec": {
   "display_name": "Python 3 (ipykernel)",
   "language": "python",
   "name": "python3"
  },
  "language_info": {
   "codemirror_mode": {
    "name": "ipython",
    "version": 3
   },
   "file_extension": ".py",
   "mimetype": "text/x-python",
   "name": "python",
   "nbconvert_exporter": "python",
   "pygments_lexer": "ipython3",
   "version": "3.9.6"
  }
 },
 "nbformat": 4,
 "nbformat_minor": 5
}
